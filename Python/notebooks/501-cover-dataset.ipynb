{
 "cells": [
  {
   "cell_type": "markdown",
   "id": "cb0f87f1-1de6-4ced-a911-63f765430581",
   "metadata": {},
   "source": [
    "## The ForestCover Dataset \n",
    "\n",
    "The original ForestCover/Covertype dataset from UCI machine learning repository is a multiclass classification dataset. It is used in predicting forest cover type from cartographic variables only (no remotely sensed data). This study area includes four wilderness areas located in the Roosevelt National Forest of northern Colorado. These areas represent forests with minimal human-caused disturbances, so that existing forest cover types are more a result of ecological processes rather than forest management practices. This dataset has 54 attributes (10 quantitative variables, 4 binary wilderness areas and 40 binary soil type variables). Here, outlier detection dataset is created using only 10 quantitative attributes. Instances from class 2 are considered as normal points and instances from class 4 are anomalies. The anomalies ratio is 0.9%. Instances from the other classes are omitted.\n",
    "\n",
    "[resources](https://odds.cs.stonybrook.edu/forestcovercovertype-dataset/)"
   ]
  },
  {
   "cell_type": "code",
   "execution_count": 1,
   "id": "90660880-b358-4035-909f-a236f2d3d579",
   "metadata": {},
   "outputs": [],
   "source": [
    "import os\n",
    "import sys\n",
    "from scipy.io import loadmat\n",
    "\n",
    "import numpy as np\n",
    "import pandas as pd\n",
    "from pyod.models.lof import LOF\n",
    "from pyod.models.iforest import IForest\n",
    "from pyod.models.ocsvm import OCSVM\n",
    "from pyod.models.auto_encoder import AutoEncoder\n",
    "from pyod.models.abod import ABOD\n",
    "from pyod.models.knn import KNN\n",
    "from pyod.models.copod import COPOD\n",
    "from pyod.models.suod import SUOD\n",
    "from pyod.utils.utility import standardizer\n",
    "from pyod.utils.data import evaluate_print\n",
    "from sklearn.model_selection import train_test_split\n",
    "\n",
    "from pyod.utils.data import evaluate_print, get_outliers_inliers\n",
    "from sklearn.model_selection import train_test_split\n",
    "from sklearn.preprocessing import StandardScaler, LabelEncoder\n",
    "from sklearn.metrics import classification_report, roc_auc_score, precision_recall_curve, auc, precision_score, recall_score, f1_score\n",
    "\n",
    "\n",
    "import matplotlib.pyplot as plt\n",
    "import seaborn as sns\n",
    "\n",
    "\n",
    "# Config\n",
    "DATA_PATH = \"../../datasets/cover.mat\""
   ]
  },
  {
   "cell_type": "code",
   "execution_count": 3,
   "id": "5ca0d681-9d93-450b-856c-f8c21cc7b8a7",
   "metadata": {},
   "outputs": [],
   "source": [
    "# Load the data\n",
    "data = loadmat(DATA_PATH)"
   ]
  },
  {
   "cell_type": "code",
   "execution_count": 4,
   "id": "f39e9413-180a-4f68-872b-1391a0297335",
   "metadata": {},
   "outputs": [
    {
     "data": {
      "text/plain": [
       "dict"
      ]
     },
     "execution_count": 4,
     "metadata": {},
     "output_type": "execute_result"
    }
   ],
   "source": [
    "type(data)"
   ]
  },
  {
   "cell_type": "code",
   "execution_count": 5,
   "id": "2853f558-376b-45d4-ae5b-11317bd67b5c",
   "metadata": {},
   "outputs": [
    {
     "name": "stdout",
     "output_type": "stream",
     "text": [
      "dict_keys(['__header__', '__version__', '__globals__', 'X', 'y'])\n",
      "1.0\n",
      "b'MATLAB 5.0 MAT-file, Platform: MACI64, Created on: Thu Aug 18 18:05:57 2016'\n",
      "[]\n",
      "************************************************************************\n",
      "[[2804  139    9 ...  238  135 6121]\n",
      " [2785  155   18 ...  238  122 6211]\n",
      " [2579  132    6 ...  237  140 6031]\n",
      " ...\n",
      " [2612   17   13 ...  211  138  644]\n",
      " [2610   16   14 ...  211  138  671]\n",
      " [2608   23   14 ...  209  131  698]]\n",
      "[[0]\n",
      " [0]\n",
      " [0]\n",
      " ...\n",
      " [0]\n",
      " [0]\n",
      " [0]]\n",
      "************************************************************************\n"
     ]
    }
   ],
   "source": [
    "print(data.keys())\n",
    "print(data['__version__'])\n",
    "print(data['__header__'])\n",
    "print(data['__globals__'])\n",
    "\n",
    "print(\"*\"*72)\n",
    "print(data['X'])\n",
    "print(data['y'])\n",
    "print(\"*\"*72)"
   ]
  },
  {
   "cell_type": "code",
   "execution_count": 6,
   "id": "50335410-6fbe-4a1b-92a4-deb9aaca0923",
   "metadata": {},
   "outputs": [
    {
     "name": "stdout",
     "output_type": "stream",
     "text": [
      "<class 'numpy.ndarray'>\n",
      "<class 'numpy.ndarray'>\n",
      "(286048, 10)\n",
      "(286048, 1)\n"
     ]
    }
   ],
   "source": [
    "X = data['X']\n",
    "y = data['y']\n",
    "print(type(X))\n",
    "print(type(y))\n",
    "print(X.shape)\n",
    "print(y.shape)"
   ]
  },
  {
   "cell_type": "code",
   "execution_count": 7,
   "id": "3fd9a948-ae06-42f8-8c03-fc3ee5ec488f",
   "metadata": {},
   "outputs": [
    {
     "name": "stdout",
     "output_type": "stream",
     "text": [
      "[0 1]\n"
     ]
    }
   ],
   "source": [
    "print(np.unique(y))"
   ]
  },
  {
   "cell_type": "code",
   "execution_count": 8,
   "id": "a790aa14-c761-43fb-9c53-3e81a03ffe64",
   "metadata": {},
   "outputs": [
    {
     "name": "stdout",
     "output_type": "stream",
     "text": [
      "2747\n",
      "283301\n"
     ]
    }
   ],
   "source": [
    "print(len(y[y==1]))\n",
    "print(len(y[y==0]))"
   ]
  },
  {
   "cell_type": "code",
   "execution_count": 9,
   "id": "3f3682de-a4f2-4123-b693-d9bc5d0e24a7",
   "metadata": {},
   "outputs": [
    {
     "name": "stdout",
     "output_type": "stream",
     "text": [
      "0.009603283365029646\n"
     ]
    }
   ],
   "source": [
    "# The contamination percentage\n",
    "print(len(y[y==1])/y.shape[0])"
   ]
  },
  {
   "cell_type": "code",
   "execution_count": 11,
   "id": "f073ef6d-b5cd-4ddb-b175-1dc8de12b061",
   "metadata": {},
   "outputs": [
    {
     "name": "stdout",
     "output_type": "stream",
     "text": [
      "Training LOF...\n",
      "Training IForest...\n",
      "Training AutoEncoder...\n"
     ]
    },
    {
     "name": "stderr",
     "output_type": "stream",
     "text": [
      "Training: 100%|██████████| 50/50 [14:05<00:00, 16.91s/it]\n"
     ]
    },
    {
     "name": "stdout",
     "output_type": "stream",
     "text": [
      "Training ABOD...\n",
      "Training KNN...\n",
      "Training COPOD...\n",
      "Training SUOD...\n",
      "RandomForestRegressor()\n",
      "\n"
     ]
    },
    {
     "name": "stderr",
     "output_type": "stream",
     "text": [
      "[Parallel(n_jobs=2)]: Using backend ThreadingBackend with 2 concurrent workers.\n",
      "Training: 100%|██████████| 50/50 [51:44<00:00, 62.08s/it] \n",
      "[Parallel(n_jobs=2)]: Done   2 out of   2 | elapsed: 52.1min finished\n",
      "[Parallel(n_jobs=2)]: Using backend ThreadingBackend with 2 concurrent workers.\n",
      "[Parallel(n_jobs=2)]: Done   2 out of   2 | elapsed:  1.7min finished\n"
     ]
    },
    {
     "name": "stdout",
     "output_type": "stream",
     "text": [
      "Evaluating LOF...\n",
      "LOF ROC:1.0, precision @ rank n:1.0\n",
      "Evaluating IForest...\n",
      "IForest ROC:1.0, precision @ rank n:1.0\n",
      "Evaluating AutoEncoder...\n",
      "AutoEncoder ROC:1.0, precision @ rank n:1.0\n",
      "Evaluating ABOD...\n",
      "ABOD ROC:1.0, precision @ rank n:1.0\n",
      "Evaluating KNN...\n",
      "KNN ROC:1.0, precision @ rank n:1.0\n",
      "Evaluating COPOD...\n",
      "COPOD ROC:1.0, precision @ rank n:1.0\n",
      "Evaluating SUOD...\n",
      "SUOD ROC:1.0, precision @ rank n:1.0\n"
     ]
    },
    {
     "data": {
      "image/png": "[encoded data removed]",
      "text/plain": [
       "<Figure size 1000x600 with 1 Axes>"
      ]
     },
     "metadata": {},
     "output_type": "display_data"
    }
   ],
   "source": [
    "from joblib import parallel_backend\n",
    "\n",
    "with parallel_backend('threading', n_jobs=2):\n",
    "    # Preprocessing\n",
    "    scaler = StandardScaler()\n",
    "    X_scaled = scaler.fit_transform(X)\n",
    "    \n",
    "    # Split the dataset (optional, as this is unsupervised)\n",
    "    X_train, X_test = train_test_split(X_scaled, test_size=0.1, random_state=42)\n",
    "    \n",
    "    # Initialize outlier detectors\n",
    "    detectors = [\n",
    "        ('LOF', LOF(n_neighbors=20)),\n",
    "        ('IForest', IForest(n_estimators=100, contamination=0.009)),\n",
    "        # ('OCSVM', OCSVM(contamination=0.009)),\n",
    "        ('AutoEncoder', AutoEncoder(contamination=0.009, hidden_neuron_list=[64, 32], epoch_num=50, batch_size=32)),\n",
    "        ('ABOD', ABOD(contamination=0.1)),\n",
    "        ('KNN', KNN(n_neighbors=5, contamination=0.009)),\n",
    "        ('COPOD', COPOD(contamination=0.009))\n",
    "    ]\n",
    "    \n",
    "    # Initialize SUOD with all detectors\n",
    "    suod = SUOD(base_estimators=[det[1] for det in detectors], contamination=0.009, n_jobs=2)\n",
    "    \n",
    "    # Train all detectors\n",
    "    for name, detector in detectors:\n",
    "        print(f'Training {name}...')\n",
    "        detector.fit(X_train)\n",
    "    \n",
    "    # Train SUOD\n",
    "    print('Training SUOD...')\n",
    "    suod.fit(X_train)\n",
    "    \n",
    "    # Predict and evaluate for each detector\n",
    "    for name, detector in detectors:\n",
    "        print(f'Evaluating {name}...')\n",
    "        y_train_pred = detector.labels_                      # binary labels (0: inliers, 1: outliers)\n",
    "        y_train_scores = detector.decision_scores_           # raw outlier scores\n",
    "        evaluate_print(name, y_train_pred, y_train_scores)\n",
    "    \n",
    "    \n",
    "    # Predict and evaluate for SUOD\n",
    "    print('Evaluating SUOD...')\n",
    "    y_train_pred = suod.labels_\n",
    "    y_train_scores = suod.decision_scores_\n",
    "    evaluate_print('SUOD',\n",
    "                   y_train_pred,\n",
    "                   y_train_scores)\n",
    "    \n",
    "    \n",
    "    # Plot the distribution of outlier scores for one of the models\n",
    "    plt.figure(figsize=(10, 6))\n",
    "    sns.histplot(y_train_scores, bins=50, kde=True)\n",
    "    plt.title(\"Distribution of Outlier Scores (SUOD)\")\n",
    "    plt.xlabel(\"Outlier Score\")\n",
    "    plt.ylabel(\"Frequency\")\n",
    "    plt.grid(True)\n",
    "    plt.show()"
   ]
  },
  {
   "cell_type": "code",
   "execution_count": null,
   "id": "093f1d96-1ed0-4b8a-9f92-0724e1ab40b3",
   "metadata": {},
   "outputs": [],
   "source": [
    "\n",
    "\n",
    "# Load the ForestCover dataset\n",
    "data_path = 'path_to_your_ForestCover_dataset.csv'\n",
    "df = pd.read_csv(data_path)\n",
    "\n",
    "# Initial Data Inspection\n",
    "print(\"Dataset Overview:\")\n",
    "print(df.head())\n",
    "print(f\"Shape of dataset: {df.shape}\")\n",
    "print(\"Data types and missing values:\")\n",
    "print(df.info())\n",
    "\n",
    "# Handle missing data if necessary\n",
    "if df.isnull().sum().sum() > 0:\n",
    "    print(\"Handling missing data...\")\n",
    "    df.fillna(df.mean(), inplace=True)\n",
    "\n",
    "# Handle categorical features if necessary\n",
    "# Assuming 'Cover_Type' is the label, and it's a categorical feature\n",
    "label_encoder = LabelEncoder()\n",
    "df['Cover_Type'] = label_encoder.fit_transform(df['Cover_Type'])\n",
    "\n",
    "# Drop the label column to focus on outlier detection\n",
    "X = df.drop(columns=['Cover_Type'])\n",
    "\n",
    "# Scale the features\n",
    "scaler = StandardScaler()\n",
    "X_scaled = scaler.fit_transform(X)\n",
    "\n",
    "# Optional: Split the dataset into training and testing sets\n",
    "X_train, X_test = train_test_split(X_scaled, test_size=0.1, random_state=42)\n",
    "\n",
    "# Initialize outlier detectors\n",
    "detectors = [\n",
    "    ('LOF', LOF(n_neighbors=20)),\n",
    "    ('IForest', IForest(n_estimators=100, contamination=0.1)),\n",
    "    ('OCSVM', OCSVM(contamination=0.1)),\n",
    "    ('AutoEncoder', AutoEncoder(contamination=0.1, hidden_neuron_list=[64, 32], epochs=50, batch_size=32, verbose=0)),\n",
    "    ('ABOD', ABOD(contamination=0.1)),\n",
    "    ('KNN', KNN(n_neighbors=5, contamination=0.1)),\n",
    "    ('COPOD', COPOD(contamination=0.1))\n",
    "]\n",
    "\n",
    "# Initialize SUOD with all detectors\n",
    "suod = SUOD(base_estimators=[det[1] for det in detectors], contamination=0.1, n_jobs=2)\n",
    "\n",
    "# Train and evaluate each detector\n",
    "results = {}\n",
    "for name, detector in detectors:\n",
    "    print(f\"Training {name}...\")\n",
    "    detector.fit(X_train)\n",
    "    \n",
    "    print(f\"Evaluating {name}...\")\n",
    "    y_train_pred = detector.labels_  # binary labels (0: inliers, 1: outliers)\n",
    "    y_train_scores = detector.decision_scores_  # raw outlier scores\n",
    "    \n",
    "    # Calculate additional evaluation metrics\n",
    "    precision, recall, f1 = precision_score(y_train_pred, y_train_scores), recall_score(y_train_pred, y_train_scores), f1_score(y_train_pred, y_train_scores)\n",
    "    roc_auc = roc_auc_score(y_train_pred, y_train_scores)\n",
    "    precision_recall_auc = auc(*precision_recall_curve(y_train_pred, y_train_scores)[:2])\n",
    "    \n",
    "    results[name] = {\n",
    "        'precision': precision,\n",
    "        'recall': recall,\n",
    "        'f1_score': f1,\n",
    "        'roc_auc': roc_auc,\n",
    "        'precision_recall_auc': precision_recall_auc\n",
    "    }\n",
    "    \n",
    "    print(f\"Metrics for {name}:\")\n",
    "    evaluate_print(name, y_train_pred, y_train_scores)\n",
    "    print(f\"Precision: {precision:.4f}, Recall: {recall:.4f}, F1-Score: {f1:.4f}, ROC AUC: {roc_auc:.4f}, Precision-Recall AUC: {precision_recall_auc:.4f}\")\n",
    "    print(\"=\"*60)\n",
    "\n",
    "# Train and evaluate SUOD\n",
    "print('Training SUOD...')\n",
    "suod.fit(X_train)\n",
    "\n",
    "print('Evaluating SUOD...')\n",
    "y_train_pred = suod.labels_\n",
    "y_train_scores = suod.decision_scores_\n",
    "\n",
    "# Calculate additional evaluation metrics for SUOD\n",
    "precision, recall, f1 = precision_score(y_train_pred, y_train_scores), recall_score(y_train_pred, y_train_scores), f1_score(y_train_pred, y_train_scores)\n",
    "roc_auc = roc_auc_score(y_train_pred, y_train_scores)\n",
    "precision_recall_auc = auc(*precision_recall_curve(y_train_pred, y_train_scores)[:2])\n",
    "\n",
    "results['SUOD'] = {\n",
    "    'precision': precision,\n",
    "    'recall': recall,\n",
    "    'f1_score': f1,\n",
    "    'roc_auc': roc_auc,\n",
    "    'precision_recall_auc': precision_recall_auc\n",
    "}\n",
    "\n",
    "evaluate_print('SUOD', y_train_pred, y_train_scores)\n",
    "print(f\"Precision: {precision:.4f}, Recall: {recall:.4f}, F1-Score: {f1:.4f}, ROC AUC: {roc_auc:.4f}, Precision-Recall AUC: {precision_recall_auc:.4f}\")\n",
    "\n",
    "# Visualization of outlier scores\n",
    "plt.figure(figsize=(12, 8))\n",
    "sns.histplot(y_train_scores, bins=50, kde=True)\n",
    "plt.title(\"Distribution of Outlier Scores (SUOD)\")\n",
    "plt.xlabel(\"Outlier Score\")\n",
    "plt.ylabel(\"Frequency\")\n",
    "plt.grid(True)\n",
    "plt.show()\n",
    "\n",
    "# Plot outliers vs inliers\n",
    "def plot_outliers_vs_inliers(X, y_pred, plot_features):\n",
    "    plt.figure(figsize=(14, 8))\n",
    "    plt.scatter(X[y_pred == 0, plot_features[0]], X[y_pred == 0, plot_features[1]], color='blue', label='Inliers', alpha=0.6)\n",
    "    plt.scatter(X[y_pred == 1, plot_features[0]], X[y_pred == 1, plot_features[1]], color='red', label='Outliers', alpha=0.6)\n",
    "    plt.xlabel(f'Feature {plot_features[0] + 1}')\n",
    "    plt.ylabel(f'Feature {plot_features[1] + 1}')\n",
    "    plt.title('Outliers vs Inliers')\n",
    "    plt.legend()\n",
    "    plt.grid(True)\n",
    "    plt.show()\n",
    "\n",
    "# Select two features for visualization\n",
    "plot_outliers_vs_inliers(X_train, y_train_pred, plot_features=[0, 1])\n",
    "\n",
    "# Display results summary\n",
    "print(\"Summary of Results:\")\n",
    "for name, metrics in results.items():\n",
    "    print(f\"{name} - Precision: {metrics['precision']:.4f}, Recall: {metrics['recall']:.4f}, F1-Score: {metrics['f1_score']:.4f}, ROC AUC: {metrics['roc_auc']:.4f}, Precision-Recall AUC: {metrics['precision_recall_auc']:.4f}\")"
   ]
  }
 ],
 "metadata": {
  "kernelspec": {
   "display_name": "Anomaly Detection Py3.12",
   "language": "python",
   "name": "anom-detect-env"
  },
  "language_info": {
   "codemirror_mode": {
    "name": "ipython",
    "version": 3
   },
   "file_extension": ".py",
   "mimetype": "text/x-python",
   "name": "python",
   "nbconvert_exporter": "python",
   "pygments_lexer": "ipython3",
   "version": "3.12.5"
  }
 },
 "nbformat": 4,
 "nbformat_minor": 5
}
